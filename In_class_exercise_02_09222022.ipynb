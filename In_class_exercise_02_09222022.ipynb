{
  "cells": [
    {
      "cell_type": "markdown",
      "metadata": {
        "id": "view-in-github",
        "colab_type": "text"
      },
      "source": [
        "<a href=\"https://colab.research.google.com/github/chaitu1121/SAICHAITANYA_INFO5731_FALL2022/blob/main/In_class_exercise_02_09222022.ipynb\" target=\"_parent\"><img src=\"https://colab.research.google.com/assets/colab-badge.svg\" alt=\"Open In Colab\"/></a>"
      ]
    },
    {
      "cell_type": "markdown",
      "metadata": {
        "id": "xhbJLaEMhehE"
      },
      "source": [
        "## The second In-class-exercise (09/22/2022, 40 points in total)"
      ]
    },
    {
      "cell_type": "markdown",
      "metadata": {
        "id": "aK8ByPfFhehF"
      },
      "source": [
        "The purpose of this exercise is to understand users' information needs, then collect data from different sources for analysis."
      ]
    },
    {
      "cell_type": "markdown",
      "metadata": {
        "id": "3BMV3U5ShehG"
      },
      "source": [
        "Question 1 (10 points): Describe an interesting research question (or practical question) you have in mind, what kind of data should be collected to answer the question(s)? How many data needed for the analysis? The detail steps for collecting and save the data. "
      ]
    },
    {
      "cell_type": "code",
      "execution_count": null,
      "metadata": {
        "id": "OwCpm6mhhehG"
      },
      "outputs": [],
      "source": [
        "# Your answer here (no code for this question, write down your answer as detail as possible for the above questions):\n",
        "\n",
        "'''\n",
        "Please write you answer here:\n",
        "\n",
        "Now a days I am very keen to know about the ratings of several books\n",
        "book name, author name, book rating and the total number of ratings given to the book has to be collected\n",
        "\n",
        "\n",
        "\n",
        "'''"
      ]
    },
    {
      "cell_type": "markdown",
      "metadata": {
        "id": "m0UQQheRhehI"
      },
      "source": [
        "Question 2 (10 points): Write python code to collect 1000 data samples you discussed above."
      ]
    },
    {
      "cell_type": "code",
      "execution_count": 4,
      "metadata": {
        "id": "2CxcpgfPhehI"
      },
      "outputs": [],
      "source": [
        "# You code here (Please add comments in the code):\n",
        "import pandas as pd\n",
        "import numpy as np\n",
        "import requests\n",
        "from bs4 import BeautifulSoup\n",
        "import re\n",
        "import time\n",
        "\n",
        "bookname = []\n",
        "authorname = []\n",
        "ratings = []\n",
        "\n",
        "\n",
        "\n",
        "for i in range(0,12): # go through the 1000\n",
        "    start_time = time.time()\n",
        "    #URL to scrape the data from\n",
        "    URL = 'https://www.goodreads.com/list/show/10048.Non_fiction_Something_for_Everyone?page={}'.format(i)\n",
        "    page = requests.get(URL)\n",
        "    pagecontent = page.text\n",
        "    soup = BeautifulSoup(pagecontent)\n",
        "    r_t=soup.find('table', class_='tableList js-dataTooltip')\n",
        "    for row in r_t.findAll(\"tr\"):\n",
        "        name = row.find('span', attrs = {'itemprop':'name'})\n",
        "        author = row.find('a', attrs = {'class':'authorName'})\n",
        "        rating = row.find('span', attrs = {'class':'minirating'})\n",
        "\n",
        "        bookname.append(name.text)\n",
        "        authorname.append(author.text)\n",
        "        ratings.append(rating.text)\n",
        "books_df = pd.DataFrame({'BookName':bookname, 'authorname':authorname, 'ratings': ratings})\n"
      ]
    },
    {
      "cell_type": "code",
      "source": [
        "books_df.head(1000)"
      ],
      "metadata": {
        "colab": {
          "base_uri": "https://localhost:8080/",
          "height": 424
        },
        "id": "VH7f15M4U9Cn",
        "outputId": "9a6fb24d-ef0f-4791-bd6e-0916250136f6"
      },
      "execution_count": 6,
      "outputs": [
        {
          "output_type": "execute_result",
          "data": {
            "text/plain": [
              "                                              BookName         authorname  \\\n",
              "0                            The Diary of a Young Girl         Anne Frank   \n",
              "1    Why They Stay: Sex Scandals, Deals, and Hidden...       Anne Michaud   \n",
              "2    Guns, Germs, and Steel: The Fates of Human Soc...      Jared Diamond   \n",
              "3                              A Brief History of Time    Stephen Hawking   \n",
              "4                                               Cosmos         Carl Sagan   \n",
              "..                                                 ...                ...   \n",
              "995                                The Inner Carnivore   Jennifer     Lee   \n",
              "996  Leftover Women: The Resurgence of Gender Inequ...  Leta Hong Fincher   \n",
              "997  Infusionsoft Strategy Guide: Taking Your Email...      Tara Jacobsen   \n",
              "998        I am Enough: Journal Affirmations for Girls  Elizabeth D. Gray   \n",
              "999  Snake Oil is Alive & Well \"The Clash between M...    Morton E. Tavel   \n",
              "\n",
              "                                        ratings  \n",
              "0           4.18 avg rating — 3,330,121 ratings  \n",
              "1               4.32 avg rating — 5,897 ratings  \n",
              "2             4.04 avg rating — 368,915 ratings  \n",
              "3             4.20 avg rating — 385,099 ratings  \n",
              "4             4.38 avg rating — 135,321 ratings  \n",
              "..                                          ...  \n",
              "995  it was amazing 5.00 avg rating — 2 ratings  \n",
              "996               3.95 avg rating — 496 ratings  \n",
              "997                 4.40 avg rating — 5 ratings  \n",
              "998                3.80 avg rating — 50 ratings  \n",
              "999                 4.62 avg rating — 8 ratings  \n",
              "\n",
              "[1000 rows x 3 columns]"
            ],
            "text/html": [
              "\n",
              "  <div id=\"df-0a1e9575-4597-41d8-af79-42c1b0c99bdc\">\n",
              "    <div class=\"colab-df-container\">\n",
              "      <div>\n",
              "<style scoped>\n",
              "    .dataframe tbody tr th:only-of-type {\n",
              "        vertical-align: middle;\n",
              "    }\n",
              "\n",
              "    .dataframe tbody tr th {\n",
              "        vertical-align: top;\n",
              "    }\n",
              "\n",
              "    .dataframe thead th {\n",
              "        text-align: right;\n",
              "    }\n",
              "</style>\n",
              "<table border=\"1\" class=\"dataframe\">\n",
              "  <thead>\n",
              "    <tr style=\"text-align: right;\">\n",
              "      <th></th>\n",
              "      <th>BookName</th>\n",
              "      <th>authorname</th>\n",
              "      <th>ratings</th>\n",
              "    </tr>\n",
              "  </thead>\n",
              "  <tbody>\n",
              "    <tr>\n",
              "      <th>0</th>\n",
              "      <td>The Diary of a Young Girl</td>\n",
              "      <td>Anne Frank</td>\n",
              "      <td>4.18 avg rating — 3,330,121 ratings</td>\n",
              "    </tr>\n",
              "    <tr>\n",
              "      <th>1</th>\n",
              "      <td>Why They Stay: Sex Scandals, Deals, and Hidden...</td>\n",
              "      <td>Anne Michaud</td>\n",
              "      <td>4.32 avg rating — 5,897 ratings</td>\n",
              "    </tr>\n",
              "    <tr>\n",
              "      <th>2</th>\n",
              "      <td>Guns, Germs, and Steel: The Fates of Human Soc...</td>\n",
              "      <td>Jared Diamond</td>\n",
              "      <td>4.04 avg rating — 368,915 ratings</td>\n",
              "    </tr>\n",
              "    <tr>\n",
              "      <th>3</th>\n",
              "      <td>A Brief History of Time</td>\n",
              "      <td>Stephen Hawking</td>\n",
              "      <td>4.20 avg rating — 385,099 ratings</td>\n",
              "    </tr>\n",
              "    <tr>\n",
              "      <th>4</th>\n",
              "      <td>Cosmos</td>\n",
              "      <td>Carl Sagan</td>\n",
              "      <td>4.38 avg rating — 135,321 ratings</td>\n",
              "    </tr>\n",
              "    <tr>\n",
              "      <th>...</th>\n",
              "      <td>...</td>\n",
              "      <td>...</td>\n",
              "      <td>...</td>\n",
              "    </tr>\n",
              "    <tr>\n",
              "      <th>995</th>\n",
              "      <td>The Inner Carnivore</td>\n",
              "      <td>Jennifer     Lee</td>\n",
              "      <td>it was amazing 5.00 avg rating — 2 ratings</td>\n",
              "    </tr>\n",
              "    <tr>\n",
              "      <th>996</th>\n",
              "      <td>Leftover Women: The Resurgence of Gender Inequ...</td>\n",
              "      <td>Leta Hong Fincher</td>\n",
              "      <td>3.95 avg rating — 496 ratings</td>\n",
              "    </tr>\n",
              "    <tr>\n",
              "      <th>997</th>\n",
              "      <td>Infusionsoft Strategy Guide: Taking Your Email...</td>\n",
              "      <td>Tara Jacobsen</td>\n",
              "      <td>4.40 avg rating — 5 ratings</td>\n",
              "    </tr>\n",
              "    <tr>\n",
              "      <th>998</th>\n",
              "      <td>I am Enough: Journal Affirmations for Girls</td>\n",
              "      <td>Elizabeth D. Gray</td>\n",
              "      <td>3.80 avg rating — 50 ratings</td>\n",
              "    </tr>\n",
              "    <tr>\n",
              "      <th>999</th>\n",
              "      <td>Snake Oil is Alive &amp; Well \"The Clash between M...</td>\n",
              "      <td>Morton E. Tavel</td>\n",
              "      <td>4.62 avg rating — 8 ratings</td>\n",
              "    </tr>\n",
              "  </tbody>\n",
              "</table>\n",
              "<p>1000 rows × 3 columns</p>\n",
              "</div>\n",
              "      <button class=\"colab-df-convert\" onclick=\"convertToInteractive('df-0a1e9575-4597-41d8-af79-42c1b0c99bdc')\"\n",
              "              title=\"Convert this dataframe to an interactive table.\"\n",
              "              style=\"display:none;\">\n",
              "        \n",
              "  <svg xmlns=\"http://www.w3.org/2000/svg\" height=\"24px\"viewBox=\"0 0 24 24\"\n",
              "       width=\"24px\">\n",
              "    <path d=\"M0 0h24v24H0V0z\" fill=\"none\"/>\n",
              "    <path d=\"M18.56 5.44l.94 2.06.94-2.06 2.06-.94-2.06-.94-.94-2.06-.94 2.06-2.06.94zm-11 1L8.5 8.5l.94-2.06 2.06-.94-2.06-.94L8.5 2.5l-.94 2.06-2.06.94zm10 10l.94 2.06.94-2.06 2.06-.94-2.06-.94-.94-2.06-.94 2.06-2.06.94z\"/><path d=\"M17.41 7.96l-1.37-1.37c-.4-.4-.92-.59-1.43-.59-.52 0-1.04.2-1.43.59L10.3 9.45l-7.72 7.72c-.78.78-.78 2.05 0 2.83L4 21.41c.39.39.9.59 1.41.59.51 0 1.02-.2 1.41-.59l7.78-7.78 2.81-2.81c.8-.78.8-2.07 0-2.86zM5.41 20L4 18.59l7.72-7.72 1.47 1.35L5.41 20z\"/>\n",
              "  </svg>\n",
              "      </button>\n",
              "      \n",
              "  <style>\n",
              "    .colab-df-container {\n",
              "      display:flex;\n",
              "      flex-wrap:wrap;\n",
              "      gap: 12px;\n",
              "    }\n",
              "\n",
              "    .colab-df-convert {\n",
              "      background-color: #E8F0FE;\n",
              "      border: none;\n",
              "      border-radius: 50%;\n",
              "      cursor: pointer;\n",
              "      display: none;\n",
              "      fill: #1967D2;\n",
              "      height: 32px;\n",
              "      padding: 0 0 0 0;\n",
              "      width: 32px;\n",
              "    }\n",
              "\n",
              "    .colab-df-convert:hover {\n",
              "      background-color: #E2EBFA;\n",
              "      box-shadow: 0px 1px 2px rgba(60, 64, 67, 0.3), 0px 1px 3px 1px rgba(60, 64, 67, 0.15);\n",
              "      fill: #174EA6;\n",
              "    }\n",
              "\n",
              "    [theme=dark] .colab-df-convert {\n",
              "      background-color: #3B4455;\n",
              "      fill: #D2E3FC;\n",
              "    }\n",
              "\n",
              "    [theme=dark] .colab-df-convert:hover {\n",
              "      background-color: #434B5C;\n",
              "      box-shadow: 0px 1px 3px 1px rgba(0, 0, 0, 0.15);\n",
              "      filter: drop-shadow(0px 1px 2px rgba(0, 0, 0, 0.3));\n",
              "      fill: #FFFFFF;\n",
              "    }\n",
              "  </style>\n",
              "\n",
              "      <script>\n",
              "        const buttonEl =\n",
              "          document.querySelector('#df-0a1e9575-4597-41d8-af79-42c1b0c99bdc button.colab-df-convert');\n",
              "        buttonEl.style.display =\n",
              "          google.colab.kernel.accessAllowed ? 'block' : 'none';\n",
              "\n",
              "        async function convertToInteractive(key) {\n",
              "          const element = document.querySelector('#df-0a1e9575-4597-41d8-af79-42c1b0c99bdc');\n",
              "          const dataTable =\n",
              "            await google.colab.kernel.invokeFunction('convertToInteractive',\n",
              "                                                     [key], {});\n",
              "          if (!dataTable) return;\n",
              "\n",
              "          const docLinkHtml = 'Like what you see? Visit the ' +\n",
              "            '<a target=\"_blank\" href=https://colab.research.google.com/notebooks/data_table.ipynb>data table notebook</a>'\n",
              "            + ' to learn more about interactive tables.';\n",
              "          element.innerHTML = '';\n",
              "          dataTable['output_type'] = 'display_data';\n",
              "          await google.colab.output.renderOutput(dataTable, element);\n",
              "          const docLink = document.createElement('div');\n",
              "          docLink.innerHTML = docLinkHtml;\n",
              "          element.appendChild(docLink);\n",
              "        }\n",
              "      </script>\n",
              "    </div>\n",
              "  </div>\n",
              "  "
            ]
          },
          "metadata": {},
          "execution_count": 6
        }
      ]
    },
    {
      "cell_type": "markdown",
      "metadata": {
        "id": "sQQzwv1thehI"
      },
      "source": [
        "Question 3 (10 points): Write python code to collect 1000 articles from Google Scholar (https://scholar.google.com/), Microsoft Academic (https://academic.microsoft.com/home), or CiteSeerX (https://citeseerx.ist.psu.edu/index), or Semantic Scholar (https://www.semanticscholar.org/), or ACM Digital Libraries (https://dl.acm.org/) with the keyword \"information retrieval\". The articles should be published in the last 10 years (2012-2022).\n",
        "\n",
        "The following information of the article needs to be collected:\n",
        "\n",
        "(1) Title\n",
        "\n",
        "(2) Venue/journal/conference being published\n",
        "\n",
        "(3) Year\n",
        "\n",
        "(4) Authors\n",
        "\n",
        "(5) Abstract"
      ]
    },
    {
      "cell_type": "code",
      "source": [
        "from bs4 import BeautifulSoup\n",
        "import requests\n",
        "headers = {'User-Agent':'Mozilla/5.0 (Macintosh; Intel Mac OS X 10_11_2) AppleWebKit/601.3.9 (KHTML, like Gecko) Version/9.0.2 Safari/601.3.9'}\n",
        "url = 'https://scholar.google.com/scholar?hl=en&as_sdt=0%2C5&q=web+scraping&btnG='\n",
        "response=requests.get(url,headers=headers)\n",
        "soup=BeautifulSoup(response.content,'lxml')\n",
        "#print(soup.select('[data-lid]'))\n",
        "for item in soup.select('[data-lid]'):\n",
        "\ttry:\n",
        "\t\tprint('----------------------------------------')\n",
        "\t\tprint(item)\n",
        "\t\t\n",
        "\texcept Exception as e:\n",
        "\t\t#raise e\n",
        "\t\tprint('')"
      ],
      "metadata": {
        "id": "xtiYRL6493Eb"
      },
      "execution_count": 14,
      "outputs": []
    },
    {
      "cell_type": "markdown",
      "metadata": {
        "id": "rKQLfL3XhehJ"
      },
      "source": [
        "Question 4 (10 points): Write python code to collect 1000 posts from Twitter, or Facebook, or Instagram. You can either use hashtags, keywords, user_name, user_id, or other information to collect the data. \n",
        "\n",
        "The following information needs to be collected:\n",
        "\n",
        "(1) User_name\n",
        "\n",
        "(2) Posted time\n",
        "\n",
        "(3) Text "
      ]
    },
    {
      "cell_type": "code",
      "source": [
        "# You code here (Please add comments in the code):\n",
        "from facebook_scraper import get_posts\n",
        " \n",
        "listposts = []\n",
        "for post in get_posts(\"virat.kohli\", pages=2):\n",
        "    print(post['text'][:50])\n",
        "    listposts.append(post)\n"
      ],
      "metadata": {
        "id": "a3EXZekNXvsO"
      },
      "execution_count": null,
      "outputs": []
    }
  ],
  "metadata": {
    "kernelspec": {
      "display_name": "Python 3 (ipykernel)",
      "language": "python",
      "name": "python3"
    },
    "language_info": {
      "codemirror_mode": {
        "name": "ipython",
        "version": 3
      },
      "file_extension": ".py",
      "mimetype": "text/x-python",
      "name": "python",
      "nbconvert_exporter": "python",
      "pygments_lexer": "ipython3",
      "version": "3.9.12"
    },
    "colab": {
      "provenance": [],
      "collapsed_sections": [],
      "include_colab_link": true
    }
  },
  "nbformat": 4,
  "nbformat_minor": 0
}