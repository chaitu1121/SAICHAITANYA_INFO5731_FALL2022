{
  "cells": [
    {
      "cell_type": "markdown",
      "metadata": {
        "id": "view-in-github",
        "colab_type": "text"
      },
      "source": [
        "<a href=\"https://colab.research.google.com/github/chaitu1121/SAICHAITANYA_INFO5731_FALL2022/blob/main/INFO5731_Assignment_Two_fall2022_(1).ipynb\" target=\"_parent\"><img src=\"https://colab.research.google.com/assets/colab-badge.svg\" alt=\"Open In Colab\"/></a>"
      ]
    },
    {
      "cell_type": "markdown",
      "metadata": {
        "id": "USSdXHuqnwv9"
      },
      "source": [
        "# **INFO5731 Assignment Two**\n",
        "\n",
        "In this assignment, you will try to gather text data from open data source via web scraping or API. After that you need to clean the text data and syntactic analysis of the data."
      ]
    },
    {
      "cell_type": "markdown",
      "metadata": {
        "id": "YWxodXh5n4xF"
      },
      "source": [
        "# **Question 1**"
      ]
    },
    {
      "cell_type": "markdown",
      "metadata": {
        "id": "TenBkDJ5n95k"
      },
      "source": [
        "(40 points). Write a python program to collect text data from **either of the following sources** and save the data into a **csv file**:\n",
        "\n",
        "(1) Collect all the customer reviews of the product [Apple iPhone 11](https://www.amazon.com/Apple-iPhone-11-64GB-Unlocked/dp/B07ZPKF8RG/ref=sr_1_13?dchild=1&keywords=iphone+12&qid=1631721363&sr=8-13) on amazon.\n",
        "\n",
        "(2) Collect the top 10000 User Reviews of the film [Shang-Chi and the Legend of the Ten Rings](https://www.imdb.com/title/tt9376612/reviews?ref_=tt_sa_3) from IMDB.\n",
        "\n",
        "(3) Collect all the reviews of the top 100 most popular software from [G2](https://www.g2.com/) or [Capterra](https://www.capterra.com/)\n",
        "\n",
        "(4) Collect the abstracts of the top 10000 research papers by using the query [natural language processing](https://citeseerx.ist.psu.edu/search?q=natural+language+processing&submit.x=0&submit.y=0&sort=rlv&t=doc) from CiteSeerX.\n",
        "\n",
        "(5) Collect all the information of the 904 narrators in the [Densho Digital Repository](https://ddr.densho.org/narrators/).\n",
        "\n",
        "(6) Collect the top 10000 tweets by using hashtag [\"#blacklivesmatter\"](https://twitter.com/hashtag/blacklivesmatter) from Twitter. \n"
      ]
    },
    {
      "cell_type": "code",
      "execution_count": 1,
      "metadata": {
        "id": "PuFPKhC0m1fd"
      },
      "outputs": [],
      "source": [
        "from bs4 import BeautifulSoup\n",
        "import pandas as pd\n",
        "import requests\n",
        "import string\n",
        "import nltk\n",
        "from nltk.corpus import stopwords\n",
        "url = \"https://www.imdb.com/title/tt9376612/reviews?ref_=tt_sa_10000\"\n",
        "page = requests.get(url)\n",
        "pa_Content = page.text\n",
        "soup = BeautifulSoup(pa_Content, 'html.parser')\n",
        "imdb_reviews=[]\n",
        "right_table=soup.find('div', {'class':\"lister\"})\n",
        "#right_table = soup.find('div', id=\"cm-cr-dp-review-list\")\n",
        "for i in right_table.findAll('div', class_=\"lister-item mode-detail imdb-user-review collapsable\"):\n",
        "  imdb_reviews.append(i.find(\"div\", class_=\"text show-more__control\"))"
      ]
    },
    {
      "cell_type": "markdown",
      "metadata": {
        "id": "AfpMRCrRwN6Z"
      },
      "source": [
        "# **Question 2**"
      ]
    },
    {
      "cell_type": "markdown",
      "metadata": {
        "id": "1dCQEbDawWCw"
      },
      "source": [
        "(30 points). Write a python program to **clean the text data** you collected above and save the data in a new column in the csv file. The data cleaning steps include:\n",
        "\n",
        "(1) Remove noise, such as special characters and punctuations.\n",
        "\n",
        "(2) Remove numbers.\n",
        "\n",
        "(3) Remove stopwords by using the [stopwords list](https://gist.github.com/sebleier/554280).\n",
        "\n",
        "(4) Lowercase all texts\n",
        "\n",
        "(5) Stemming. \n",
        "\n",
        "(6) Lemmatization."
      ]
    },
    {
      "cell_type": "code",
      "execution_count": 2,
      "metadata": {
        "id": "vATjQNTY8buA"
      },
      "outputs": [],
      "source": [
        "# Write your code here\n",
        "\n",
        "\n",
        "\n",
        "import string\n",
        "import nltk\n",
        "from nltk.corpus import stopwords\n",
        "rev = []\n",
        "for i in imdb_reviews:\n",
        "  s = str(i)\n",
        "  x = s.replace(s[:37],\"\").replace(\"<br/><br/>\",\"\").replace(\"</div>\", \"\").replace(\"\\n\", \" \")\n",
        "  rev.append(x.lower())\n",
        "def Punctuation(rev):\n",
        "    punctuation = string.punctuation\n",
        "    lis = []\n",
        "    for sentence in rev:\n",
        "      se=[]\n",
        "      se.clear()\n",
        "      for j in sentence:\n",
        "        #print(j)\n",
        "        if j in punctuation:\n",
        "          se.append(\"\")        \n",
        "        else:\n",
        "          se.append(j)  \n",
        "      lis.append(\"\".join(se).replace(\"i \", \"\"))\n",
        "    return lis\n",
        "def convert_sentence(rev):\n",
        "  reviews=[]\n",
        "  for i in rev:\n",
        "    review.append(i)\n",
        "  return reviews \n",
        "df = pd.DataFrame({'User Reviews': Punctuation(rev) })\n",
        "df.to_csv('userReviews.csv')\n"
      ]
    },
    {
      "cell_type": "markdown",
      "metadata": {
        "id": "E5mmYIfN8eYV"
      },
      "source": [
        "# **Question 3**"
      ]
    },
    {
      "cell_type": "markdown",
      "metadata": {
        "id": "hsi2y4z88ngX"
      },
      "source": [
        "(30 points). Write a python program to conduct **syntax and structure analysis** of the clean text you just saved above. The syntax and structure analysis includes: \n",
        "\n",
        "(1) Parts of Speech (POS) Tagging: Tag Parts of Speech of each word in the text, and calculate the total number of N(oun), V(erb), Adj(ective), Adv(erb), respectively.\n",
        "\n",
        "(2) Constituency Parsing and Dependency Parsing: print out the constituency parsing trees and dependency parsing trees of all the sentences. Using one sentence as an example to explain your understanding about the constituency parsing tree and dependency parsing tree.\n",
        "\n",
        "(3) Named Entity Recognition: Extract all the entities such as person names, organizations, locations, product names, and date from the clean texts, calculate the count of each entity."
      ]
    },
    {
      "cell_type": "code",
      "execution_count": 14,
      "metadata": {
        "colab": {
          "base_uri": "https://localhost:8080/"
        },
        "id": "QQKnPjPDHJHr",
        "outputId": "02298e78-c0dd-423c-c9ea-7bfc3f099e4d"
      },
      "outputs": [
        {
          "output_type": "stream",
          "name": "stderr",
          "text": [
            "[nltk_data] Downloading package averaged_perceptron_tagger to\n",
            "[nltk_data]     /root/nltk_data...\n",
            "[nltk_data]   Package averaged_perceptron_tagger is already up-to-\n",
            "[nltk_data]       date!\n"
          ]
        }
      ],
      "source": [
        "# Write your code here\n",
        "import csv\n",
        "file=open('userReviews.csv')\n",
        "type(file)\n",
        "csvreader = csv.reader(file)\n",
        "rows = []\n",
        "for row in csvreader:\n",
        "        rows.append(row)\n",
        "rows\n",
        "import spacy\n",
        "from spacy import displacy\n",
        "nlp=spacy.load('en_core_web_sm')\n",
        "doc=nlp('')\n",
        "displacy.render(doc,style='dep')\n",
        "\n",
        "nltk.download('averaged_perceptron_tagger')\n",
        "\n",
        "for i in range(1,18):\n",
        "  final=nltk.pos_tag(rows[i])\n",
        "  final\n",
        "\n",
        "\n"
      ]
    },
    {
      "cell_type": "markdown",
      "metadata": {
        "id": "xWOtvT2rHNWy"
      },
      "source": [
        "**Write your explanations of the constituency parsing tree and dependency parsing tree here (Question 3-2):** "
      ]
    },
    {
      "cell_type": "code",
      "source": [
        "import spacy\n",
        "from spacy import displacy\n",
        "nlp=spacy.load('en_core_web_sm')\n",
        "for i in range(1,18):\n",
        "    \n",
        "    doc=nlp(rows[i][1])\n",
        "    displacy.render(doc,style='dep')"
      ],
      "metadata": {
        "id": "_L59xFH9LAnV"
      },
      "execution_count": 15,
      "outputs": []
    },
    {
      "cell_type": "code",
      "source": [],
      "metadata": {
        "id": "dv3-nTmfLCsC"
      },
      "execution_count": null,
      "outputs": []
    }
  ],
  "metadata": {
    "colab": {
      "collapsed_sections": [],
      "provenance": [],
      "include_colab_link": true
    },
    "kernelspec": {
      "display_name": "Python 3 (ipykernel)",
      "language": "python",
      "name": "python3"
    },
    "language_info": {
      "codemirror_mode": {
        "name": "ipython",
        "version": 3
      },
      "file_extension": ".py",
      "mimetype": "text/x-python",
      "name": "python",
      "nbconvert_exporter": "python",
      "pygments_lexer": "ipython3",
      "version": "3.9.7"
    }
  },
  "nbformat": 4,
  "nbformat_minor": 0
}